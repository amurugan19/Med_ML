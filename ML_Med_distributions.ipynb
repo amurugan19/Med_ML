{
 "cells": [
  {
   "cell_type": "markdown",
   "metadata": {},
   "source": [
    "# Machine Learning for Medicine: Workshop\n",
    "## What is a distribution?\n",
    "\n",
    "### Overview\n",
    "Data is the way we study our patients. Whether its lab values, MRIs, our physical examination, or even our history taking, data is the window into what's happening in our patients.\n",
    "\n",
    "In this post we'll talk a bit more about the basics of probability and statistics. This will be a little heavier in math than some might be comfortable with, but if you're interested in getting a deeper insight into ML then this is a good starting point.\n",
    "\n",
    "While basic probability and statistics is crucial to machine learning, there won't be any mind blowing ML in this notebook. This is purely about foundations but it is still important to understand the fundamental building blocks of our data.\n",
    "\n",
    "#### How to run this notebook\n",
    "This Jupyter notebook can be run simply by going to the menu up top, selecting 'Kernel -> Restart and Run All'.\n",
    "\n",
    "You'll need some basic libraries to get this to work."
   ]
  },
  {
   "cell_type": "code",
   "execution_count": 12,
   "metadata": {},
   "outputs": [],
   "source": [
    "import numpy as np\n",
    "import matplotlib.pyplot as plt\n",
    "import ipywidgets as widgets\n",
    "from ipywidgets import interact, interactive\n",
    "from IPython.display import clear_output, display, HTML"
   ]
  },
  {
   "cell_type": "markdown",
   "metadata": {},
   "source": [
    "### What is a distribution\n",
    "Let's start with an example: I'm trying to figure out if my patient is diabetic.\n",
    "\n",
    "One approach is to take a thorough history. You should always do this. But that type of data requires some more advanced math, so we'll do what we're told not to do: start with the labs. Specifically, the A1c\n",
    "\n",
    "\n",
    "#### A Healthy A1C: Histograms\n",
    "Based on guidelines, we know that the A1c cutoff for diabetes is about X.\n",
    "We can think about how this cutoff was selected using a thought experiment.\n",
    "Some study was performed in healthy patients and patients with diabetes diagnosed through physical exam + urine findings.\n",
    "They plotted the A1c of the healthy patients as a *histogram*.\n",
    "What is a histogram?"
   ]
  },
  {
   "cell_type": "code",
   "execution_count": 13,
   "metadata": {},
   "outputs": [
    {
     "data": {
      "text/plain": [
       "(0, 500)"
      ]
     },
     "execution_count": 13,
     "metadata": {},
     "output_type": "execute_result"
    },
    {
     "data": {
      "image/png": "[encoded data removed]",
      "text/plain": [
       "<Figure size 432x288 with 1 Axes>"
      ]
     },
     "metadata": {
      "needs_background": "light"
     },
     "output_type": "display_data"
    }
   ],
   "source": [
    "mfig,ax = plt.subplots()\n",
    "mean = 5\n",
    "xset = np.random.normal(5,2,size=1000)\n",
    "histo = ax.hist(xset,bins=np.arange(0,40))\n",
    "plt.xlim(0,40)\n",
    "plt.ylim(0,500)"
   ]
  },
  {
   "cell_type": "markdown",
   "metadata": {},
   "source": [
    "**How do we read that?** A histogram is a way to display our data. The x-axis is the value of our A1c. The y-axis is the *number of patients that had that A1c value*.\n",
    "\n",
    "**The mean of healthy** We can find the mean A1c value in our healthy group pretty easily."
   ]
  },
  {
   "cell_type": "code",
   "execution_count": 14,
   "metadata": {},
   "outputs": [
    {
     "name": "stdout",
     "output_type": "stream",
     "text": [
      "The mean A1c is: 4.900321635868858\n"
     ]
    }
   ],
   "source": [
    "mean_a1c = np.mean(xset)\n",
    "print('The mean A1c is: ' + str(mean_a1c))"
   ]
  },
  {
   "cell_type": "markdown",
   "metadata": {},
   "source": [
    "Now let's take a look at the dataset we got from our *diabetes* patients.\n",
    "\n",
    "#### The diabetic A1c\n",
    "We'll plot our diabetic dataset now in the same histogram format. The diabetic patients will have a *red* histogram while we'll keep our healthy patients in a *blue* histogram."
   ]
  },
  {
   "cell_type": "code",
   "execution_count": 15,
   "metadata": {},
   "outputs": [
    {
     "data": {
      "text/plain": [
       "(0, 500)"
      ]
     },
     "execution_count": 15,
     "metadata": {},
     "output_type": "execute_result"
    },
    {
     "data": {
      "image/png": "[encoded data removed]",
      "text/plain": [
       "<Figure size 432x288 with 1 Axes>"
      ]
     },
     "metadata": {
      "needs_background": "light"
     },
     "output_type": "display_data"
    }
   ],
   "source": [
    "mfig,ax = plt.subplots()\n",
    "mean = 5\n",
    "healthy_data = np.random.normal(5,2,size=1000)\n",
    "histo = ax.hist(healthy_data,bins=np.arange(0,40))\n",
    "\n",
    "diabetic_data = np.random.normal(6,2,size=1000)\n",
    "histo = ax.hist(diabetic_data,bins=np.arange(0,40),color='red',alpha=0.7)\n",
    "plt.xlim(0,40)\n",
    "plt.ylim(0,500)"
   ]
  },
  {
   "cell_type": "markdown",
   "metadata": {},
   "source": [
    "So now we can take the mean of our *healthy* patients and the mean of our *diabetic* patients."
   ]
  },
  {
   "cell_type": "code",
   "execution_count": 16,
   "metadata": {},
   "outputs": [
    {
     "name": "stdout",
     "output_type": "stream",
     "text": [
      "The mean A1c in our healthy patients is: 4.9843524400601344\n",
      "The mean A1c in our diabetic patients is: 5.9511194152746905\n"
     ]
    }
   ],
   "source": [
    "healthy_mean_a1c = np.mean(healthy_data)\n",
    "print('The mean A1c in our healthy patients is: ' + str(healthy_mean_a1c))\n",
    "\n",
    "diabetic_mean_a1c = np.mean(diabetic_data)\n",
    "print('The mean A1c in our diabetic patients is: ' + str(diabetic_mean_a1c))"
   ]
  },
  {
   "cell_type": "markdown",
   "metadata": {},
   "source": [
    "So, the means are **different**. But is this difference **meaningful**? Or is it just because measurements are always full of errors? After all, maybe we thought someone wasn't diabetic when they actually were.\n",
    "\n",
    "This is when we work with *statistical tests*."
   ]
  },
  {
   "cell_type": "markdown",
   "metadata": {},
   "source": [
    "#### Putting it all together with an interactive example"
   ]
  },
  {
   "cell_type": "code",
   "execution_count": 21,
   "metadata": {},
   "outputs": [
    {
     "data": {
      "application/vnd.jupyter.widget-view+json": {
       "model_id": "52646fe68ed546b1afec4a6b259acec1",
       "version_major": 2,
       "version_minor": 0
      },
      "text/plain": [
       "interactive(children=(FloatSlider(value=10.0, description='cutoff', max=20.0), Output()), _dom_classes=('widge…"
      ]
     },
     "metadata": {},
     "output_type": "display_data"
    }
   ],
   "source": [
    "hm=5\n",
    "hv=1\n",
    "hset = np.random.normal(hm,hv,size=1000)\n",
    "\n",
    "\n",
    "def update_distr(cutoff):\n",
    "    fig = plt.figure()\n",
    "    ax = fig.add_axes([0, 0, 1, 1])\n",
    "    #ax.axis('off')\n",
    "    \n",
    "    #mfig,ax = plt.subplots()\n",
    "    #ax.cla()\n",
    "    histo = ax.hist(hset,bins=np.arange(0,40))\n",
    "    line = ax.axvline(x=cutoff)\n",
    "    #Fix up our plotting here\n",
    "    plt.xlim(0,40)\n",
    "    plt.ylim(0,500)\n",
    "    \n",
    "    plt.show()\n",
    "    \n",
    "    \n",
    "    # Do some basic stats here\n",
    "    pval = np.sum(hset > cutoff) / 1000\n",
    "    print('Probability that we would see this datum value (or greater) from our healthy distribution: ' + str(pval))\n",
    "\n",
    "\n",
    "w = interactive(update_distr, cutoff=(0.,20.))\n",
    "display(w)"
   ]
  },
  {
   "cell_type": "code",
   "execution_count": null,
   "metadata": {},
   "outputs": [],
   "source": []
  }
 ],
 "metadata": {
  "kernelspec": {
   "display_name": "Python 3",
   "language": "python",
   "name": "python3"
  },
  "language_info": {
   "codemirror_mode": {
    "name": "ipython",
    "version": 3
   },
   "file_extension": ".py",
   "mimetype": "text/x-python",
   "name": "python",
   "nbconvert_exporter": "python",
   "pygments_lexer": "ipython3",
   "version": "3.8.1"
  }
 },
 "nbformat": 4,
 "nbformat_minor": 4
}
