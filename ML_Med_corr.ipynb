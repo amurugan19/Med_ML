{
 "cells": [
  {
   "cell_type": "markdown",
   "metadata": {},
   "source": [
    "# Machine learning for medicine\n",
    "## Correlations\n",
    "What's a correlation?\n",
    "\n",
    "Intuitively, it's when one things seems to go along with something else.\n",
    "\n",
    "The key thing here is that just because two things go together doesn't mean they *affect* each other.\n",
    "\n",
    "## Overview\n",
    "We often want to know if variables go with each other.\n",
    "\n",
    "\n",
    "## Simple correlation\n",
    "Let's see how well a signal correlates with itself.\n",
    "\n",
    "\n",
    "## Add in some noise\n",
    "\n",
    "\n",
    "## Scaling one variable\n",
    "\n",
    "## Correlation is not causation"
   ]
  },
  {
   "cell_type": "code",
   "execution_count": 6,
   "metadata": {},
   "outputs": [],
   "source": [
    "import numpy as np\n",
    "import scipy\n",
    "import matplotlib.pyplot as plt\n",
    "from ipywidgets import interact, interactive, fixed, interact_manual\n",
    "import ipywidgets as widgets\n",
    "import scipy.stats as stats"
   ]
  },
  {
   "cell_type": "code",
   "execution_count": 6,
   "metadata": {},
   "outputs": [
    {
     "data": {
      "application/vnd.jupyter.widget-view+json": {
       "model_id": "9597a07cff8843938f9e2a8fd9750ca8",
       "version_major": 2,
       "version_minor": 0
      },
      "text/plain": [
       "interactive(children=(IntSlider(value=5, description='var', max=10), Output()), _dom_classes=('widget-interact…"
      ]
     },
     "metadata": {},
     "output_type": "display_data"
    },
    {
     "data": {
      "text/plain": [
       "<function __main__.f(var)>"
      ]
     },
     "execution_count": 6,
     "metadata": {},
     "output_type": "execute_result"
    }
   ],
   "source": [
    "def f(var):\n",
    "    t = np.linspace(0,10,100)\n",
    "\n",
    "    x = np.random.normal(np.sin(2 * np.pi * t),var,size=(100,1))\n",
    "    fig1 = plt.figure()\n",
    "    plt.plot(t,x)\n",
    "    plt.xlim((-1,11))\n",
    "    plt.ylim((-10,10))\n",
    "    plt.show()\n",
    "\n",
    "interact(f,var=(0,10))"
   ]
  },
  {
   "cell_type": "markdown",
   "metadata": {},
   "source": [
    "## Nonlinear functions and correlation"
   ]
  },
  {
   "cell_type": "code",
   "execution_count": 2,
   "metadata": {},
   "outputs": [
    {
     "data": {
      "application/vnd.jupyter.widget-view+json": {
       "model_id": "ce3565460e694a09a09349f1b012b0a3",
       "version_major": 2,
       "version_minor": 0
      },
      "text/plain": [
       "interactive(children=(FloatSlider(value=50.0, description='var'), FloatSlider(value=50.5, description='mag', m…"
      ]
     },
     "metadata": {},
     "output_type": "display_data"
    },
    {
     "data": {
      "text/plain": [
       "<function __main__.g(var, mag)>"
      ]
     },
     "execution_count": 2,
     "metadata": {},
     "output_type": "execute_result"
    }
   ],
   "source": [
    "def g(var,mag):\n",
    "    x = np.linspace(-4,4,100)\n",
    "    y = np.random.normal(mag*(x-2) * (x) * (x+2),var)\n",
    "    \n",
    "    plt.figure()\n",
    "    plt.plot(x,y)\n",
    "    plt.xlim((-5,5))\n",
    "    plt.ylim((-50,50))\n",
    "    \n",
    "    pears = stats.pearsonr(x,y)\n",
    "    print('Correlation: ' + str(pears))\n",
    "    \n",
    "interact(g,var=(0,100.),mag = (1,100.))"
   ]
  },
  {
   "cell_type": "code",
   "execution_count": 11,
   "metadata": {},
   "outputs": [
    {
     "data": {
      "application/vnd.jupyter.widget-view+json": {
       "model_id": "a828ffd284594fa9891434150de6b706",
       "version_major": 2,
       "version_minor": 0
      },
      "text/plain": [
       "interactive(children=(IntSlider(value=55, description='nsamp', min=10, step=5), FloatSlider(value=50.0, descri…"
      ]
     },
     "metadata": {},
     "output_type": "display_data"
    },
    {
     "data": {
      "text/plain": [
       "<function __main__.gr(nsamp, var, mag)>"
      ]
     },
     "execution_count": 11,
     "metadata": {},
     "output_type": "execute_result"
    }
   ],
   "source": [
    "def relat(x):\n",
    "    return (x-2) * (x) * (x+2)\n",
    "\n",
    "def gr(nsamp,var,mag):\n",
    "    x = np.random.uniform(-4.,4.,size=(nsamp,))\n",
    "    y = mag*np.random.normal(relat(x),var)\n",
    "    \n",
    "    xc = np.linspace(-4,4,100)\n",
    "    yc = mag*relat(xc)\n",
    "    \n",
    "    fig1 = plt.figure()\n",
    "    \n",
    "    plt.scatter(x,y)\n",
    "    plt.xlim((-5,5))\n",
    "    plt.ylim((-50,50))\n",
    "    plt.plot(xc,yc,color='red')\n",
    "    \n",
    "    pears = stats.pearsonr(x,y)\n",
    "    plt.title('Correlation: ' + str(pears))\n",
    "    \n",
    "    plt.show()\n",
    "    \n",
    "interact(gr,nsamp=(10,100,5),var=(0,100.),mag = (0,5.))"
   ]
  }
 ],
 "metadata": {
  "kernelspec": {
   "display_name": "Python 3",
   "language": "python",
   "name": "python3"
  },
  "language_info": {
   "codemirror_mode": {
    "name": "ipython",
    "version": 3
   },
   "file_extension": ".py",
   "mimetype": "text/x-python",
   "name": "python",
   "nbconvert_exporter": "python",
   "pygments_lexer": "ipython3",
   "version": "3.8.1"
  }
 },
 "nbformat": 4,
 "nbformat_minor": 4
}
