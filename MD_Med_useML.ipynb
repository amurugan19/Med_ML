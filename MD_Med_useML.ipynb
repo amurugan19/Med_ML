{
 "cells": [
  {
   "cell_type": "markdown",
   "metadata": {},
   "source": [
    "# Machine learning for medicine\n",
    "## Using ML\n",
    "\n",
    "In this notebook we're going to apply ML to a dataset and contrast it with what you may do in a standard Discovery project\n"
   ]
  },
  {
   "cell_type": "markdown",
   "metadata": {},
   "source": [
    "## The example\n",
    "\n",
    "We'll work in the context of Diabetes.\n",
    "Specifically, we're going to study how Pancreas $\\beta$ cells, insulin, blood glucose, and potassium all interact.\n",
    "\n",
    "The core of the example is developed and described [elsewhere]() as it is out of the scope of the discussion here."
   ]
  }
 ],
 "metadata": {
  "kernelspec": {
   "display_name": "Python 3",
   "language": "python",
   "name": "python3"
  },
  "language_info": {
   "codemirror_mode": {
    "name": "ipython",
    "version": 3
   },
   "file_extension": ".py",
   "mimetype": "text/x-python",
   "name": "python",
   "nbconvert_exporter": "python",
   "pygments_lexer": "ipython3",
   "version": "3.8.1"
  }
 },
 "nbformat": 4,
 "nbformat_minor": 4
}
