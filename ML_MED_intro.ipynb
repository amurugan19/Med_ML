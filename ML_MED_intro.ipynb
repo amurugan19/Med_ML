{
 "cells": [
  {
   "cell_type": "markdown",
   "metadata": {},
   "source": [
    "# Machine Learning for Medicine\n",
    "## A Workshop for Emory Discovery Projects\n",
    "\n",
    "## Table of Contents\n",
    "* Overview\n",
    "    * What is machine learning\n",
    "* Practicals\n",
    "    * [Tools for ML success](ML_Med_Tools.ipynb)\n",
    "    * [Applying ML to a dataset](MD_Med_useML.ipynb)\n",
    "* Fundamentals\n",
    "    * [Data come from Distributions](ML_Med_distributions.ipynb)\n",
    "    * EBM statistics vs ML\n",
    "    * What is correlation\n",
    "\n",
    "### Most practically useful/**HIGH YIELD**\n",
    "The key notebooks are:\n",
    "* Tools for ML success\n",
    "* Applying ML to a dataset\n",
    "\n",
    "## Overview\n",
    "In this workshop our goal is to clarify what machine learning (ML) is, talk about the increasingly important role its playing in medicine, and give you tools that can help you in your Discovery project.\n",
    "\n",
    "When we say 'give you tools', we mean give.\n",
    "That's the beauty of *open-source* code and Python/Jupyter notebooks.\n",
    "With the right tools (available for free) on your computer, you can actually run *and tweak* the code in these notebooks.\n",
    "These notebooks are also *interactive*, enabling you to tweak with data directly.\n",
    "\n",
    "The workshop will consist of two sessions:\n",
    "* Tools for ML success\n",
    "    * Installing Python, Installing Jupyter, basics of data\n",
    "* Applying ML to a dataset\n",
    "    * \n",
    "\n",
    "## Why Machine Learning?\n",
    "ML is, in a nutshell, the use of computers to learn patterns in data.\n",
    "\n",
    "The standard approach to science was developed when we didn't have a great understanding of theory and when our computers were the size of school buildings.\n",
    "In the standard approach the goal is to design a clever experiment to *isolate* variables that you think might be related.\n",
    "We then vary one of them to see if the other changes.\n",
    "As long as you've done a good job of fixing all the other possible variables, you can confidently say that there's a causal link between two co-changing (or [covarying]()) variables.\n",
    "\n",
    "## Why ML in Medicine?\n",
    "Science is interested in patterns, it just tends to focus on understanding the simple patterns between small pieces first before understanding how all the patterns come together.\n",
    "Medicine is also interested in patterns, but the patterns we care about tend to be incredibly complicated.\n",
    "\n",
    "**Essentially, machine learning is the way we can study multiple interactions in the body together, instead of in isolation**.\n",
    "When we're studying patients in order to then *treat* them, we're essentially trying to understand how the patterns in their physiology are disturbed (pathology) and what we can do (medications) to unwarp the patterns without disturbing other patterns.\n",
    "\n",
    "### Hands-on learning\n",
    "The unique thing about machine learning is its *open-source* nature. The tools used to analyse data are often freely available. Free as in money and free as in freedom: most people provide you the *code* they used to analyse their data so you can analyse your own data using the exact same methods.\n",
    "\n",
    "This means that with a simple introduction and a set of resources, you can be well on your way to a life-time of ML learning. That's the goal of this workshop."
   ]
  }
 ],
 "metadata": {
  "kernelspec": {
   "display_name": "Python 3",
   "language": "python",
   "name": "python3"
  },
  "language_info": {
   "codemirror_mode": {
    "name": "ipython",
    "version": 3
   },
   "file_extension": ".py",
   "mimetype": "text/x-python",
   "name": "python",
   "nbconvert_exporter": "python",
   "pygments_lexer": "ipython3",
   "version": "3.8.1"
  }
 },
 "nbformat": 4,
 "nbformat_minor": 4
}
