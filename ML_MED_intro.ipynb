{
 "cells": [
  {
   "cell_type": "markdown",
   "metadata": {},
   "source": [
    "# Machine Learning for Medicine: Workshop\n",
    "## A brief introduction for Emory Discovery Projects\n",
    "\n",
    "### Table of Contents\n",
    "* Overview\n",
    "* What is machine learning?\n",
    "* Hands-on learning\n",
    "    * [Data comes in distributions](ML_Med_distributions.ipynb)\n",
    "    * EBM statistics\n",
    "    * Machine learning\n",
    "\n",
    "### Overview\n",
    "What exactly *is* machine learning? Why is everyone raving about it? What does it have to do with evidence-based medicine (EBM)?\n",
    "\n",
    "Most importantly: how can I use ML myself to empower my dreams of becoming an academic clinician?\n",
    "\n",
    "We'll cover these questions in a series of two workshops. Both workshops will follow the general structure:\n",
    "\n",
    "* How do we study the human body?\n",
    "    * Evidence-based medicine approaches\n",
    "    * Machine learning approaches\n",
    "* What tools can I use to implement ML in my discovery project?\n",
    "    * Hands-on basics of programming (bring your laptop!)\n",
    "    * Resources to learn on your own\n",
    "    \n",
    "The first workshop will focus on doing basic EBM in Python, with a brief preview of ML. The second will focus on doing basic machine learning analyses in Python, with a comparison to EBM.\n",
    "\n",
    "### What are we doing here?\n",
    "Physicians care about one thing: making their patients healthier. One way to make them healthier is to understand how the body works and how it breaks in different diseases. \n",
    "\n",
    "The core of what we do is we study the *relationships* between different parts of the body. For example, how does the pancreas interact with blood sugar? How does the brain come into the picture?\n",
    "\n",
    "We tend to break up the study of the body into several steps:\n",
    "1. Are two things related?\n",
    "2. If they are, *how* are they related?\n",
    "3. How can we change the first thing to affect the second thing?\n",
    "\n",
    "When you ask these questions in a scientific study, you get something like *evidence-based medicine*. EBM is the use of data from specific types of studies to inform medical management.\n",
    "\n",
    "### What is machine learning?\n",
    "The standard way to do science is to carefully design an experiment, fix as many variables as possible, collect a large sample size, and then figure out if one thing is related to another thing. When you're dealing with a complex system like the human body, this approach is incredibly slow.\n",
    "\n",
    "Machine learning is more about learning the relationships in our body directly by using the data + a set of hypotheses.\n",
    "\n",
    "**Essentially, machine learning is the way we can study multiple interactions in the body together, instead of in isolation**. This is a powerful new tool that we should all be aware of and familiar with.\n",
    "\n",
    "One major benefit of ML is that it doesn't necessarily require a carefully crafted experiment in order to study the things we care about. Often times, where the experiment is poorly controlled the mathematical analysis can come in and save the day.\n",
    "\n",
    "### Hands-on learning\n",
    "The unique thing about machine learning is its *open-source* nature. The tools used to analyse data are often freely available. Free as in money and free as in freedom: most people provide you the *code* they used to analyse their data so you can analyse your own data using the exact same methods.\n",
    "\n",
    "This means that with a simple introduction and a set of resources, you can be well on your way to a life-time of ML learning. That's the goal of this workshop."
   ]
  }
 ],
 "metadata": {
  "kernelspec": {
   "display_name": "Python 3",
   "language": "python",
   "name": "python3"
  },
  "language_info": {
   "codemirror_mode": {
    "name": "ipython",
    "version": 3
   },
   "file_extension": ".py",
   "mimetype": "text/x-python",
   "name": "python",
   "nbconvert_exporter": "python",
   "pygments_lexer": "ipython3",
   "version": "3.8.1"
  }
 },
 "nbformat": 4,
 "nbformat_minor": 2
}
